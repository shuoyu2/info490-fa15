{
 "cells": [
  {
   "cell_type": "markdown",
   "metadata": {},
   "source": [
    "Before you turn this problem in, make sure everything runs as expected. First, restart the kernel (in the menubar, select Kernel → Restart) and then run all cells (in the menubar, select Cell → Run All).\n",
    "\n",
    "Make sure you fill in any place that says YOUR CODE HERE.\n",
    "Do not write your answer in anywhere else other than where it says YOUR CODE HERE.\n",
    "\n",
    "First, write your name and NetID below:"
   ]
  },
  {
   "cell_type": "code",
   "execution_count": null,
   "metadata": {
    "collapsed": true
   },
   "outputs": [],
   "source": [
    "NAME = 'WRITE YOUR NAME HERE'\n",
    "NETID = 'WRITE YOUR NETID HERE'"
   ]
  },
  {
   "cell_type": "markdown",
   "metadata": {},
   "source": [
    "# Problem 7.1. Trigonometric Functions\n",
    "\n",
    "Create a simple plot that displays the $sin(x)$ and $cos(x)$ functions from $x = -\\pi$ to $x = +\\pi$. Use different colors for the two plots, which should be plotted in one figure. The plots should be properly labeled. Although this problem does not have test cases (`assert` statements), you still have to use this template to write your code. Submit your IPython notebook onto Moodle for both instructor and peer assessment.\n",
    "\n",
    "- Use\n",
    "  [numpy.linspace()](http://docs.scipy.org/doc/numpy/reference/generated/numpy.linspace.html)\n",
    "  to create an array of floats\n",
    "  between `-numpy.pi` and `numpy.pi`.\n",
    "- Use\n",
    "  [numpy.sin()](http://docs.scipy.org/doc/numpy/reference/generated/numpy.sin.html)\n",
    "  and\n",
    "  [numpy.cos()](http://docs.scipy.org/doc/numpy/reference/generated/numpy.cos.html)\n",
    "  functions on the arrays.\n",
    "- Use `%matplotlib inline` to embed your plot in this notebook.\n",
    "- Always label you axes.\n",
    "- Your figure should have a descriptive title and also put your first and last name in the title."
   ]
  },
  {
   "cell_type": "code",
   "execution_count": null,
   "metadata": {
    "collapsed": true,
    "deletable": false,
    "nbgrader": {
     "checksum": "de0a1081311dd53d1667c4ad8841a813",
     "grade": true,
     "grade_id": "student_answer",
     "locked": false,
     "points": 30,
     "solution": true
    }
   },
   "outputs": [],
   "source": [
    "# YOUR CODE HERE"
   ]
  }
 ],
 "metadata": {
  "kernelspec": {
   "display_name": "Python 3",
   "language": "python",
   "name": "python3"
  },
  "language_info": {
   "codemirror_mode": {
    "name": "ipython",
    "version": 3
   },
   "file_extension": ".py",
   "mimetype": "text/x-python",
   "name": "python",
   "nbconvert_exporter": "python",
   "pygments_lexer": "ipython3",
   "version": "3.4.0"
  }
 },
 "nbformat": 4,
 "nbformat_minor": 0
}