{
 "cells": [
  {
   "cell_type": "markdown",
   "metadata": {},
   "source": [
    "Before you turn this problem in, make sure everything runs as expected. First, restart the kernel (in the menubar, select Kernel → Restart) and then run all cells (in the menubar, select Cell → Run All).\n",
    "\n",
    "Make sure you fill in any place that says YOUR CODE HERE.\n",
    "Do not write your answer in anywhere else other than where it says YOUR CODE HERE.\n",
    "\n",
    "First, write your name and NetID below:"
   ]
  },
  {
   "cell_type": "code",
   "execution_count": null,
   "metadata": {
    "collapsed": true
   },
   "outputs": [],
   "source": [
    "NAME = 'WRITE YOUR NAME HERE'\n",
    "NETID = 'WRITE YOUR NETID HERE'"
   ]
  },
  {
   "cell_type": "markdown",
   "metadata": {},
   "source": [
    "# Problem 7.2. Distance vs. Flight Time.\n",
    "\n",
    "Use the 2001 [airline on-time performance data](http://stat-computing.org/dataexpo/2009/the-data.html) `2001.csv` to create a scatter plot of `Distance` vs. `ActualElapsedTime`. Although this problem does not have test cases (`assert` statements), you still have to use this template to write your code. Submit your IPython notebook onto Moodle for both instructor and peer assessment.\n",
    "\n",
    "Here are some hints:\n",
    "\n",
    "- You have to specify that the encoding is `latin-1`, e.g.\n",
    "  ```python\n",
    "  open(filename, encoding='latin-1')\n",
    "  ```\n",
    "\n",
    "- The column header for distance is `Distance` (distance between airports, in miles).\n",
    "- For flight time, use `ActualElapsedTime` (elapsed time of flight, in minutes).\n",
    "- There are missing values denoted by `NA`. You should not plot any data point that has `NA` in `Distance` or `ActualElapsedTime` columns.\n",
    "- There are various ways to extract the columns you want from a CSV file. To give you a few examples,\n",
    "  - You could use `awk` to extract the columns, save it in a separate file, and load this file in your IPython notebook. But your IPython notebook must be **self-contained** so provide your `awk` command in a cell prepended with `!` or `%%bash` magic functions.\n",
    "  - You could modify the `get_column()` function from [Problem 5.1](https://github.com/UI-DataScience/info490-fa15/blob/master/Week5/assignment/fileio.ipynb). Note that you can't use the `get_column()` function without modification, because `ActualElapsedTime` and `Distance` columns have `NA` values in different rows. Again, your IPython notebooks should be self-contained, so provide your modified function in your notebook (rather than importing it as a module).\n",
    "  - You could use the [csv module](https://docs.python.org/3/library/csv.html). Note that you still need to handle the missing values even with the `csv` module.\n",
    "  - Although we haven't covered [Numpy](http://docs.scipy.org/doc/numpy/user/index.html) yet, you can also use [numpy.genfromtxt()](http://docs.scipy.org/doc/numpy/user/basics.io.genfromtxt.html) or [numpy.loadtxt()](http://docs.scipy.org/doc/numpy/reference/generated/numpy.loadtxt.html). If you use these functions, be sure to specify the following options:\n",
    "  \n",
    "    ```python\n",
    "    delimiter=','`, `skiprows=1`\n",
    "    ```\n",
    "    \n",
    "    and\n",
    "\n",
    "    ```python\n",
    "    converters={11: lambda x: 0 if x == b'NA' else int(x),\n",
    "                18: lambda x: 0 if x == b'NA' else int(x)}\n",
    "    ```\n",
    "    \n",
    "    The above converter function will replace `NA` with 0. Therefore, you also need to remove all data points with 0, e.g.\n",
    "\n",
    "    ```python\n",
    "    mask = (airtime > 0) & (distance > 0)\n",
    "    airtime = airtime[mask]\n",
    "    distance = distance[mask]\n",
    "    ```\n",
    "  - We will cover [Pandas](http://pandas.pydata.org/) in the following weeks, but you could also use Pandas [read_csv()](http://pandas.pydata.org/pandas-docs/stable/generated/pandas.read_csv.html).\n",
    "\n",
    "- The `2001.csv` file has over 5 million rows. Trying to plot all 5 million\n",
    "  points in one scatter plot will result in waiting forever to process the plot,\n",
    "  an IPython notebook with a very large file size, and an extremely cluttered\n",
    "  plot. You can prevent this by plotting every *n*-th point. Use \n",
    "  [Python's extended slicing](https://docs.python.org/3.4/reference/datamodel.html) or\n",
    "  [Numpy's\n",
    "  slicing](http://docs.scipy.org/doc/numpy/reference/arrays.indexing.html),\n",
    "  e.g. `array[::1000]` for every 1000-th point in the array.\n",
    "- Always label your axes. Your figure should have a descriptive title, and\n",
    "  also put your first and last name in the title.\n",
    "- Common sense should tell you that `Distance` is a linear function of `ActualElapsedTime`. If your scatter plot doesn't look like it has a positive correlation, check your code (check especially how you handled missing values `NA`)."
   ]
  },
  {
   "cell_type": "code",
   "execution_count": null,
   "metadata": {
    "collapsed": true,
    "deletable": false,
    "nbgrader": {
     "checksum": "de0a1081311dd53d1667c4ad8841a813",
     "grade": true,
     "grade_id": "student_answer",
     "locked": false,
     "points": 30,
     "solution": true
    }
   },
   "outputs": [],
   "source": [
    "# YOUR CODE HERE"
   ]
  }
 ],
 "metadata": {
  "kernelspec": {
   "display_name": "Python 3",
   "language": "python",
   "name": "python3"
  },
  "language_info": {
   "codemirror_mode": {
    "name": "ipython",
    "version": 3
   },
   "file_extension": ".py",
   "mimetype": "text/x-python",
   "name": "python",
   "nbconvert_exporter": "python",
   "pygments_lexer": "ipython3",
   "version": "3.4.0"
  }
 },
 "nbformat": 4,
 "nbformat_minor": 0
}