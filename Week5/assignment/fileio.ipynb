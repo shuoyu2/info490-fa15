{
 "cells": [
  {
   "cell_type": "markdown",
   "metadata": {
    "deletable": false,
    "nbgrader": {
     "checksum": "41a30ab8ea0a3c800ba0e101da71ec81",
     "grade": false,
     "grade_id": "header",
     "locked": true,
     "solution": false
    }
   },
   "source": [
    "Before you turn this problem in, make sure everything runs as expected. First, restart the kernel (in the menubar, select Kernel → Restart) and then run all cells (in the menubar, select Cell → Run All).\n",
    "\n",
    "Make sure you fill in any place that says YOUR CODE HERE.\n",
    "Do not write your answer in anywhere else other than where it says YOUR CODE HERE.\n",
    "\n",
    "First, write your name and NetID below:"
   ]
  },
  {
   "cell_type": "code",
   "execution_count": null,
   "metadata": {
    "collapsed": true
   },
   "outputs": [],
   "source": [
    "NAME = 'WRITE YOUR NAME HERE'\n",
    "NETID = 'WRITE YOUR NETID HERE'"
   ]
  },
  {
   "cell_type": "markdown",
   "metadata": {
    "deletable": false,
    "nbgrader": {
     "checksum": "9a79a61b8edbc6df147d1f49ffb6a675",
     "grade": false,
     "grade_id": "instructions_0",
     "locked": true,
     "solution": false
    }
   },
   "source": [
    "# Problem 5.1. Reading a CSV file.\n",
    "\n",
    "In this problem, we will write a function that extracts the `n`-th column of the `2001.csv` file that you downloaded in [Week 4 assignment](https://github.com/UI-DataScience/info490-fa15/blob/master/Week4/assignment/unix_ipython.ipynb)."
   ]
  },
  {
   "cell_type": "code",
   "execution_count": null,
   "metadata": {
    "collapsed": false,
    "deletable": false,
    "nbgrader": {
     "checksum": "99b6cf6df064c7abcb3b066a5141b5a3",
     "grade": false,
     "grade_id": "import",
     "locked": true,
     "solution": false
    }
   },
   "outputs": [],
   "source": [
    "import os\n",
    "from nose.tools import assert_equal"
   ]
  },
  {
   "cell_type": "markdown",
   "metadata": {
    "deletable": false,
    "nbgrader": {
     "checksum": "50258c8569b0e2ed3275f651477ba0ec",
     "grade": false,
     "grade_id": "instructions_1",
     "locked": true,
     "solution": false
    }
   },
   "source": [
    "- Write a function named `get_column(filename, n, header=True)` that reads the n-th column from a file and returns a list of integers.\n",
    "\n",
    "- You may assume that the column is made of integers.\n",
    "\n",
    "- We will also use the optional argument `header` because the first line of our file lists the names of the columns, but we might want to turn this off to handle a file that doesn't have a header.\n",
    "\n",
    "- Use a combination of `with` statement and `open()` function to open filename in the `get_column()` function.\n",
    "\n",
    "- When I tried to use `open()` to read 2001.csv, I had the following error:\n",
    "\n",
    "  ```\n",
    "  'utf-8' codec can't decode byte 0xe4 in position 343: invalid continuation byte\n",
    "  ```\n",
    "\n",
    "  You can avoid this error by using `encoding=\"latin-1\"` option in `open()`.\n",
    "  \n",
    "- Skip the first line if the header parameter is `True`; do not skip if it's `False`.\n",
    "\n",
    "- Some columns have missing values `\"NA\"`, and you need a way to handle these missing values. If the n-th column is missing, you should not include that column in result; that is, skip all rows with `\"NA`. As a result, lists returned from different columns may have different lengths."
   ]
  },
  {
   "cell_type": "code",
   "execution_count": null,
   "metadata": {
    "collapsed": true,
    "deletable": false,
    "nbgrader": {
     "checksum": "fffccb9cf89b279d2fc2f7b81c5308a2",
     "grade": false,
     "grade_id": "get_column_answer",
     "locked": false,
     "solution": true
    }
   },
   "outputs": [],
   "source": [
    "def get_column(filename, n, header=True):\n",
    "    '''\n",
    "    Returns a list from reading the specified column in the CSV file.\n",
    "\n",
    "    Parameters\n",
    "    __________\n",
    "    filename (str): Input file name. The file is assumed to be in a \n",
    "                    Comma Separated Values (CSV) format with latin-1 encoding.\n",
    "    n (int): Column number. The first column starts at 0. The column must be\n",
    "             a list of integers.\n",
    "    header (bool): If True, the first line of file is column names.\n",
    "                   Default: True.\n",
    "    '''\n",
    "    result = []\n",
    "\n",
    "    # YOUR CODE HERE\n",
    "\n",
    "    return result"
   ]
  },
  {
   "cell_type": "code",
   "execution_count": null,
   "metadata": {
    "collapsed": true,
    "deletable": false,
    "nbgrader": {
     "checksum": "d0d5080a60210ebd757e1452c4b27dab",
     "grade": true,
     "grade_id": "get_column_test_0",
     "locked": true,
     "points": 3,
     "solution": false
    }
   },
   "outputs": [],
   "source": [
    "csv_with_header = '''\n",
    "Year,Month,DayofMonth,DayOfWeek,DepTime,CRSDepTime,ArrTime,CRSArrTime,UniqueCarrier,FlightNum,TailNum,ActualElapsedTime,CRSElapsedTime,AirTime,ArrDelay,DepDelay,Origin,Dest,Distance,TaxiIn,TaxiOut,Cancelled,CancellationCode,Diverted,CarrierDelay,WeatherDelay,NASDelay,SecurityDelay,LateAircraftDelay\n",
    "2001,1,17,3,1806,1810,1931,1934,US,375,N700äæ,85,84,60,-3,-4,BWI,CLT,361,5,20,0,NA,0,NA,NA,NA,NA,1\n",
    "2001,1,18,4,1805,1810,1938,1934,US,375,N713äæ,93,84,64,4,-5,BWI,CLT,361,9,20,0,NA,0,NA,NA,NA,NA,1\n",
    "2001,1,19,5,1821,1810,1957,1934,US,375,N702äæ,96,84,80,23,11,BWI,CLT,361,6,10,0,NA,0,NA,NA,NA,NA,NA\n",
    "2001,1,20,6,1807,1810,1944,1934,US,375,N701äæ,97,84,66,10,-3,BWI,CLT,361,4,27,0,NA,0,NA,NA,NA,NA,NA\n",
    "'''.strip().encode('latin-1')\n",
    "\n",
    "csv_no_header = '''\n",
    "2001,1,17,3,1806,1810,1931,1934,US,375,N700äæ,85,84,60,-3,-4,BWI,CLT,361,5,20,0,NA,0,NA,NA,NA,NA,1\n",
    "2001,1,18,4,1805,1810,1938,1934,US,375,N713äæ,93,84,64,4,-5,BWI,CLT,361,9,20,0,NA,0,NA,NA,NA,NA,1\n",
    "2001,1,19,5,1821,1810,1957,1934,US,375,N702äæ,96,84,80,23,11,BWI,CLT,361,6,10,0,NA,0,NA,NA,NA,NA,NA\n",
    "2001,1,20,6,1807,1810,1944,1934,US,375,N701äæ,97,84,66,10,-3,BWI,CLT,361,4,27,0,NA,0,NA,NA,NA,NA,NA\n",
    "2001,1,21,7,1810,1810,1954,1934,US,375,N768äæ,104,84,62,20,0,BWI,CLT,361,4,38,0,NA,0,NA,NA,NA,NA,1\n",
    "'''.strip().encode('latin-1')\n",
    "\n",
    "with open('test.header.csv', 'wb') as f:\n",
    "    f.write(csv_with_header)\n",
    "    \n",
    "with open('test.noheader.csv', 'wb') as f:\n",
    "    f.write(csv_no_header)\n",
    "\n",
    "# header cases\n",
    "assert_equal(get_column('test.header.csv', 0, header=True), [2001] * 4)"
   ]
  },
  {
   "cell_type": "code",
   "execution_count": null,
   "metadata": {
    "collapsed": true,
    "deletable": false,
    "nbgrader": {
     "checksum": "1331d46481225be7322c80adc41dcbd3",
     "grade": true,
     "grade_id": "get_column_test_1",
     "locked": true,
     "points": 3,
     "solution": false
    }
   },
   "outputs": [],
   "source": [
    "assert_equal(get_column('test.header.csv', 2, header=True), list(range(17, 21)))"
   ]
  },
  {
   "cell_type": "code",
   "execution_count": null,
   "metadata": {
    "collapsed": true,
    "deletable": false,
    "nbgrader": {
     "checksum": "7587db4d01694a3ba6222b9c5264ca71",
     "grade": true,
     "grade_id": "get_column_test_2",
     "locked": true,
     "points": 3,
     "solution": false
    }
   },
   "outputs": [],
   "source": [
    "assert_equal(get_column('test.header.csv', 4, header=True), [1806, 1805, 1821, 1807])"
   ]
  },
  {
   "cell_type": "code",
   "execution_count": null,
   "metadata": {
    "collapsed": true,
    "deletable": false,
    "nbgrader": {
     "checksum": "f734269e41f62e49b20feb5507bd1d44",
     "grade": true,
     "grade_id": "get_column_test_3",
     "locked": true,
     "points": 3,
     "solution": false
    }
   },
   "outputs": [],
   "source": [
    "assert_equal(get_column('test.header.csv', 27, header=True), [])"
   ]
  },
  {
   "cell_type": "code",
   "execution_count": null,
   "metadata": {
    "collapsed": true,
    "deletable": false,
    "nbgrader": {
     "checksum": "2ad847b66bb401fbb175cff6e3968f4c",
     "grade": true,
     "grade_id": "get_column_test_4",
     "locked": true,
     "points": 3,
     "solution": false
    }
   },
   "outputs": [],
   "source": [
    "assert_equal(get_column('test.header.csv', 28, header=True), [1] * 2)"
   ]
  },
  {
   "cell_type": "code",
   "execution_count": null,
   "metadata": {
    "collapsed": true,
    "deletable": false,
    "nbgrader": {
     "checksum": "cbe2e878cfe9c9f9ef1afce1cad9fe65",
     "grade": true,
     "grade_id": "get_column_test_5",
     "locked": true,
     "points": 3,
     "solution": false
    }
   },
   "outputs": [],
   "source": [
    "# no header cases\n",
    "assert_equal(get_column('test.noheader.csv', 0, header=False), [2001] * 5)"
   ]
  },
  {
   "cell_type": "code",
   "execution_count": null,
   "metadata": {
    "collapsed": true,
    "deletable": false,
    "nbgrader": {
     "checksum": "005d252cc878221388751570e3bcf9bc",
     "grade": true,
     "grade_id": "get_column_test_6",
     "locked": true,
     "points": 3,
     "solution": false
    }
   },
   "outputs": [],
   "source": [
    "assert_equal(get_column('test.noheader.csv', 2, header=False), list(range(17, 22)))"
   ]
  },
  {
   "cell_type": "code",
   "execution_count": null,
   "metadata": {
    "collapsed": true,
    "deletable": false,
    "nbgrader": {
     "checksum": "23c435762f0d113d85eb27d26d65a551",
     "grade": true,
     "grade_id": "get_column_test_7",
     "locked": true,
     "points": 3,
     "solution": false
    }
   },
   "outputs": [],
   "source": [
    "assert_equal(get_column('test.noheader.csv', 4, header=False), [1806, 1805, 1821, 1807, 1810])"
   ]
  },
  {
   "cell_type": "code",
   "execution_count": null,
   "metadata": {
    "collapsed": false,
    "deletable": false,
    "nbgrader": {
     "checksum": "0422707c17e09d6cf210039c561153fc",
     "grade": true,
     "grade_id": "get_column_test_8",
     "locked": true,
     "points": 3,
     "solution": false
    }
   },
   "outputs": [],
   "source": [
    "assert_equal(get_column('test.noheader.csv', 27, header=False), [])"
   ]
  },
  {
   "cell_type": "code",
   "execution_count": null,
   "metadata": {
    "collapsed": false,
    "deletable": false,
    "nbgrader": {
     "checksum": "2ad2a7a7985c5d7f5964375b025ad20c",
     "grade": true,
     "grade_id": "get_column_test_9",
     "locked": true,
     "points": 3,
     "solution": false
    }
   },
   "outputs": [],
   "source": [
    "assert_equal(get_column('test.noheader.csv', 28, header=False), [1] * 3)\n",
    "\n",
    "# clean up\n",
    "os.remove('test.header.csv')\n",
    "os.remove('test.noheader.csv')"
   ]
  }
 ],
 "metadata": {
  "kernelspec": {
   "display_name": "Python 3",
   "language": "python",
   "name": "python3"
  },
  "language_info": {
   "codemirror_mode": {
    "name": "ipython",
    "version": 3
   },
   "file_extension": ".py",
   "mimetype": "text/x-python",
   "name": "python",
   "nbconvert_exporter": "python",
   "pygments_lexer": "ipython3",
   "version": "3.4.0"
  }
 },
 "nbformat": 4,
 "nbformat_minor": 0
}