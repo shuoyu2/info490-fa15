{
 "cells": [
  {
   "cell_type": "markdown",
   "metadata": {},
   "source": [
    "Before you turn this problem in, make sure everything runs as expected. First, restart the kernel (in the menubar, select Kernel → Restart) and then run all cells (in the menubar, select Cell → Run All).\n",
    "\n",
    "Make sure you fill in any place that says YOUR CODE HERE.\n",
    "Do not write your answer in anywhere else other than where it says YOUR CODE HERE.\n",
    "\n",
    "First, write your name and NetID below:"
   ]
  },
  {
   "cell_type": "code",
   "execution_count": null,
   "metadata": {
    "collapsed": true
   },
   "outputs": [],
   "source": [
    "NAME = 'Shuo Yu'\n",
    "NETID = 'shuoyu2'"
   ]
  },
  {
   "cell_type": "markdown",
   "metadata": {},
   "source": [
    "# Problem 6.1. Regular Expressions: Flights Data.\n",
    "\n",
    "In this problem, we will use Python's regular expressions (regex) to write functions that validate an IATA code, a longitude or a latitude, and a aircraft tail number."
   ]
  },
  {
   "cell_type": "code",
   "execution_count": null,
   "metadata": {
    "collapsed": true,
    "deletable": false,
    "nbgrader": {
     "checksum": "18287b36628928896f295d0fffa4b39c",
     "grade": false,
     "grade_id": "import",
     "locked": true,
     "solution": false
    }
   },
   "outputs": [],
   "source": [
    "import re\n",
    "from nose.tools import assert_equal"
   ]
  },
  {
   "cell_type": "markdown",
   "metadata": {},
   "source": [
    "In [Problem 5.2](../../Week5/assignment/requests.ipynb), we introduced [IATA codes](https://en.wikipedia.org/wiki/International_Air_Transport_Association_airport_code) and [airports.csv](http://stat-computing.org/dataexpo/2009/supplemental-data.html).\n",
    "\n",
    "The airports.csv file looks like this:\n",
    "\n",
    "```shell\n",
    "$ head /home/data_scientist/data/airports.csv\n",
    "\"iata\",\"airport\",\"city\",\"state\",\"country\",\"lat\",\"long\"\n",
    "\"00M\",\"Thigpen \",\"Bay Springs\",\"MS\",\"USA\",31.95376472,-89.23450472\n",
    "\"00R\",\"Livingston Municipal\",\"Livingston\",\"TX\",\"USA\",30.68586111,-95.01792778\n",
    "\"00V\",\"Meadow Lake\",\"Colorado Springs\",\"CO\",\"USA\",38.94574889,-104.5698933\n",
    "\"01G\",\"Perry-Warsaw\",\"Perry\",\"NY\",\"USA\",42.74134667,-78.05208056\n",
    "\"01J\",\"Hilliard Airpark\",\"Hilliard\",\"FL\",\"USA\",30.6880125,-81.90594389\n",
    "\"01M\",\"Tishomingo County\",\"Belmont\",\"MS\",\"USA\",34.49166667,-88.20111111\n",
    "\"02A\",\"Gragg-Wade \",\"Clanton\",\"AL\",\"USA\",32.85048667,-86.61145333\n",
    "\"02C\",\"Capitol\",\"Brookfield\",\"WI\",\"USA\",43.08751,-88.17786917\n",
    "\"02G\",\"Columbiana County\",\"East Liverpool\",\"OH\",\"USA\",40.67331278,-80.64140639\n",
    "```\n",
    "\n",
    "Consier the columns `iata`, `lat`, and `long`. Consider a scenario, where we have to go through every values in these columns, and see if they are valid because perhaps we suspect there might be some bad, corrupt, or missing values. How would we validate, for example, if some value in the `iata` column indeed has the correct format?\n",
    "\n",
    "## 1. Validate an IATA code.\n",
    "\n",
    "In the following code cell, write a function that returns `True` if the IATA code is valid and `False` if not.\n",
    "\n",
    "For our purposes, an IATA airport code\n",
    "  - has exactly three alphanumeric characters,\n",
    "  - is valid when all alphabetical characters are capital letters, and\n",
    "  - is invalid when one or more alphabetical characters are lowercase letters.\n",
    "  \n",
    "See the test cases for examples of valid and invalid IATA codes."
   ]
  },
  {
   "cell_type": "code",
   "execution_count": null,
   "metadata": {
    "collapsed": false,
    "deletable": false,
    "nbgrader": {
     "checksum": "350002ff471974e6f0129bfb9ea3c683",
     "grade": false,
     "grade_id": "validate_airport_answer",
     "locked": false,
     "solution": true
    }
   },
   "outputs": [],
   "source": [
    "def validate_airport(iata):\n",
    "    '''\n",
    "    Takes a string.\n",
    "    Returns True if the string is a valid IATA code.\n",
    "    Returns False if the string is an invalid IATA code.\n",
    "    \n",
    "    Parameters\n",
    "    ----------\n",
    "    iata: string\n",
    "    \n",
    "    Returns\n",
    "    -------\n",
    "    bool\n",
    "    '''\n",
    "    iatau=iata.upper()",
    "    if iata==iatau and len(iata) == 4:",
    "         return True",
    "    Else:   ",
    "        Return False",
   ]
  },
  {
   "cell_type": "markdown",
   "metadata": {},
   "source": [
    "The following code cell will produce no error if your function is correct."
   ]
  },
  {
   "cell_type": "code",
   "execution_count": null,
   "metadata": {
    "collapsed": false,
    "deletable": false,
    "nbgrader": {
     "checksum": "b9f5eb89b43a43c148111b0cc0f1ab39",
     "grade": true,
     "grade_id": "validate_airport_test",
     "locked": true,
     "points": 10,
     "solution": false
    }
   },
   "outputs": [],
   "source": [
    "assert_equal(validate_airport('000'), True)\n",
    "assert_equal(validate_airport('A00'), True)\n",
    "assert_equal(validate_airport('0B0'), True)\n",
    "assert_equal(validate_airport('00C'), True)\n",
    "assert_equal(validate_airport('999'), True)\n",
    "assert_equal(validate_airport('1AZ'), True)\n",
    "assert_equal(validate_airport('B2Y'), True)\n",
    "assert_equal(validate_airport('CX3'), True)\n",
    "\n",
    "assert_equal(validate_airport(''), False)\n",
    "assert_equal(validate_airport('1'), False)\n",
    "assert_equal(validate_airport('23'), False)\n",
    "assert_equal(validate_airport('4567'), False)\n",
    "assert_equal(validate_airport('8y9'), False)\n",
    "assert_equal(validate_airport('0aB'), False)\n",
    "assert_equal(validate_airport('gHI'), False)"
   ]
  },
  {
   "cell_type": "markdown",
   "metadata": {},
   "source": [
    "## 2. Validate a longitude or a latitude.\n",
    "\n",
    "In the following code cell, write a function that returns `True` if a latitude/longitude is in the correct format, and returns `False` if the format is incorrect.\n",
    "\n",
    "For our purposes, we will assume that a longitude or a latitude\n",
    "  - always has decimal digits,\n",
    "  - does not have plus sign when it is positive, and\n",
    "  - has a minus sign when it is negative.\n",
    "  \n",
    "See the test cases for examples."
   ]
  },
  {
   "cell_type": "code",
   "execution_count": null,
   "metadata": {
    "collapsed": true,
    "deletable": false,
    "nbgrader": {
     "checksum": "52e2cdf89d97c5e1385009679b4edb8d",
     "grade": false,
     "grade_id": "validate_long_lat_answer",
     "locked": false,
     "solution": true
    }
   },
   "outputs": [],
   "source": [
    "def validate_long_lat(coordinate):\n",
    "    '''\n",
    "    Takes a string.\n",
    "    Returns True if the string is a valid longitude/latitude.\n",
    "    Returns False if the string is not a valid longitude/latitude.\n",
    "    \n",
    "    Parameters\n",
    "    ----------\n",
    "    coordiante: string\n",
    "    \n",
    "    Returns\n",
    "    -------\n",
    "    bool\n",
    "    '''\n",
    "    # YOUR CODE HERE"
    " if coordiante[0]=='+': ",
    "     return False   ",
    "  try:  ",
    "      float(coordiante)     ",
    "  except ValueError:   ",
    "     return False   ",
    "  s=float(coordiante)  ",
    "  if round(s) == s :   ",
    "     retirm False   ",
    "  Return True",
    
   ]
  },
  {
   "cell_type": "code",
   "execution_count": null,
   "metadata": {
    "collapsed": false,
    "deletable": false,
    "nbgrader": {
     "checksum": "4c13ee63f6b0e203ecbf5541d2a8b8b2",
     "grade": true,
     "grade_id": "validate_long_lat_test",
     "locked": true,
     "points": 10,
     "solution": false
    }
   },
   "outputs": [],
   "source": [
    "assert_equal(validate_long_lat('0.0'), True)\n",
    "assert_equal(validate_long_lat('999.9'), True)\n",
    "\n",
    "assert_equal(validate_long_lat('31.953'), True)\n",
    "assert_equal(validate_long_lat('31.95376'), True)\n",
    "assert_equal(validate_long_lat('31.95376472'), True)\n",
    "\n",
    "assert_equal(validate_long_lat('-89.2'), True)\n",
    "assert_equal(validate_long_lat('-89.23450472'), True)\n",
    "\n",
    "assert_equal(validate_long_lat('+31.95376472'), False) # no plus sign for positive numbers\n",
    "\n",
    "assert_equal(validate_long_lat('a0.0'), False) # no alphabet letters\n",
    "assert_equal(validate_long_lat('1b.0'), False) # no alphabet letters\n",
    "assert_equal(validate_long_lat('2.c0'), False) # no alphabet letters\n",
    "assert_equal(validate_long_lat('999.9z'), False) # no alphabet letters\n",
    "\n",
    "assert_equal(validate_long_lat('1'), False) # assume there will be decimal digits\n",
    "assert_equal(validate_long_lat('1.'), False) # assume there will be decimal digits"
   ]
  },
  {
   "cell_type": "markdown",
   "metadata": {},
   "source": [
    "## 3. Validate a tail number (aircraft registration number).\n",
    "\n",
    "Accoridng to [Wikipedia](https://en.wikipedia.org/wiki/Aircraft_registration),\n",
    "\n",
    "```\n",
    "In the United States, the registration number is commonly referred to as an \"N\" number, because all aircraft registered there have a number starting with the letter N. An alphanumeric system is used because of the large numbers of aircraft registered in the United States. An N-number may only consist of one to five characters, must start with a digit other than zero, and cannot end in a run of more than two letters. In addition, N-numbers may not contain the letters I or O, due to their similarities with the numerals 1 and 0.\n",
    "```\n",
    "\n",
    "See the test cases for examples."
   ]
  },
  {
   "cell_type": "code",
   "execution_count": null,
   "metadata": {
    "collapsed": true,
    "deletable": false,
    "nbgrader": {
     "checksum": "31209ed1a88d5ef2946d67218f149550",
     "grade": false,
     "grade_id": "validate_tail_number_answer",
     "locked": false,
     "solution": true
    }
   },
   "outputs": [],
   "source": [
    "def validate_tail_number(n_number):\n",
    "    '''\n",
    "    Takes a string.\n",
    "    Returns True if the string is a valid tail number.\n",
    "    Returns False if the string is not a valid tail number.\n",
    "    '''\n",
    "    # YOUR CODE HERE"
    "   if len(n_number)>5 : ",
    "       Return False     ",
    "   if n_number[0] != 'N':  ",
    "       Return False     ",
    "   import re   ",
    "   if n_number.find('O')!=-1 ",
    "       Return False     ",
    "   if n_number.find('I')!=-1 ",
    "       Return False     ",
    "   if m[-1].isalpha() and m[-2].isalpha()",
    "       Return False     ",
    "   Else:        ",
    "       Return True   ",
    
    
   ]
  },
  {
   "cell_type": "code",
   "execution_count": null,
   "metadata": {
    "collapsed": false,
    "deletable": false,
    "nbgrader": {
     "checksum": "ca87806ec8bc58ec856215dd81aecd5b",
     "grade": true,
     "grade_id": "validate_tail_number_test",
     "locked": true,
     "points": 10,
     "solution": false
    }
   },
   "outputs": [],
   "source": [
    "assert_equal(validate_tail_number('N'), False) # N-number may only consist of one to five characters\n",
    "\n",
    "assert_equal(validate_tail_number('N1'), True)\n",
    "assert_equal(validate_tail_number('N99'), True)\n",
    "\n",
    "assert_equal(validate_tail_number('NA'), False) # must start with a digit other than zero\n",
    "assert_equal(validate_tail_number('N0'), False) # must start with a digit other than zero\n",
    "\n",
    "assert_equal(validate_tail_number('N1A'), True)\n",
    "assert_equal(validate_tail_number('N9Z'), True)\n",
    "\n",
    "assert_equal(validate_tail_number('N1I'), False) # may not contain the letter I\n",
    "assert_equal(validate_tail_number('N1O'), False) # may not contain the letter O\n",
    "\n",
    "assert_equal(validate_tail_number('N1AA'), True)\n",
    "assert_equal(validate_tail_number('N9ZZ'), True)\n",
    "assert_equal(validate_tail_number('N1AAA'), False) # cannot end in a run of more than two letters\n",
    "assert_equal(validate_tail_number('N1AI'), False) # may not contain the letter I\n",
    "assert_equal(validate_tail_number('N1AO'), False) # may not contain the letter O\n",
    "\n",
    "assert_equal(validate_tail_number('N10A'), True)\n",
    "assert_equal(validate_tail_number('N99Z'), True)\n",
    "assert_equal(validate_tail_number('N10I'), False) # may not contain the letter I\n",
    "assert_equal(validate_tail_number('N11O'), False) # may not contain the letter O\n",
    "\n",
    "assert_equal(validate_tail_number('N10AA'), True)\n",
    "assert_equal(validate_tail_number('N99ZZ'), True)\n",
    "assert_equal(validate_tail_number('N10AAA'), False) # cannot end in a run of more than two letters\n",
    "\n",
    "assert_equal(validate_tail_number('N100'), True)\n",
    "assert_equal(validate_tail_number('N999'), True)\n",
    "\n",
    "assert_equal(validate_tail_number('N100A'), True)\n",
    "assert_equal(validate_tail_number('N999Z'), True)\n",
    "assert_equal(validate_tail_number('N100I'), False) # may not contain the letter I\n",
    "assert_equal(validate_tail_number('N999O'), False) # may not contain the letter O\n",
    "\n",
    "assert_equal(validate_tail_number('N100AA'), True)\n",
    "assert_equal(validate_tail_number('N999ZZ'), True)\n",
    "assert_equal(validate_tail_number('N100ZZZ'), False) # cannot end in a run of more than two letters\n",
    "\n",
    "assert_equal(validate_tail_number('N1000'), True)\n",
    "assert_equal(validate_tail_number('N9999'), True)\n",
    "\n",
    "assert_equal(validate_tail_number('N1000A'), True)\n",
    "assert_equal(validate_tail_number('N9999Z'), True)\n",
    "assert_equal(validate_tail_number('N1000I'), False) # may not contain the letter I\n",
    "assert_equal(validate_tail_number('N9999O'), False) # may not contain the letter O\n",
    "\n",
    "assert_equal(validate_tail_number('N10000'), True)\n",
    "assert_equal(validate_tail_number('N99999'), True)\n",
    "\n",
    "assert_equal(validate_tail_number('N100000'), False) # N-number may only consist of one to five characters\n",
    "assert_equal(validate_tail_number('N10000A'), False) # N-number may only consist of one to five characters"
   ]
  }
 ],
 "metadata": {
  "kernelspec": {
   "display_name": "Python 3",
   "language": "python",
   "name": "python3"
  },
  "language_info": {
   "codemirror_mode": {
    "name": "ipython",
    "version": 3
   },
   "file_extension": ".py",
   "mimetype": "text/x-python",
   "name": "python",
   "nbconvert_exporter": "python",
   "pygments_lexer": "ipython3",
   "version": "3.4.0"
  }
 },
 "nbformat": 4,
 "nbformat_minor": 0
}
