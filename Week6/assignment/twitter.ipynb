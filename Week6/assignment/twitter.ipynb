{
 "cells": [
  {
   "cell_type": "markdown",
   "metadata": {
    "nbgrader": {
     "grade": false,
     "locked": false,
     "solution": false
    }
   },
   "source": [
    "Before you turn this problem in, make sure everything runs as expected. First, restart the kernel (in the menubar, select Kernel → Restart) and then run all cells (in the menubar, select Cell → Run All).\n",
    "\n",
    "Make sure you fill in any place that says YOUR CODE HERE.\n",
    "Do not write your answer in anywhere else other than where it says YOUR CODE HERE.\n",
    "\n",
    "First, write your name and NetID below:"
   ]
  },
  {
   "cell_type": "code",
   "execution_count": null,
   "metadata": {
    "collapsed": true
   },
   "outputs": [],
   "source": [
    "NAME = 'WRITE YOUR NAME HERE'\n",
    "NETID = 'WRITE YOUR NETID HERE'"
   ]
  },
  {
   "cell_type": "markdown",
   "metadata": {
    "nbgrader": {
     "grade": false,
     "locked": false,
     "solution": false
    }
   },
   "source": [
    "# Problem 6.2. Regular Expressions: Twitter."
   ]
  },
  {
   "cell_type": "code",
   "execution_count": null,
   "metadata": {
    "collapsed": true,
    "deletable": false,
    "nbgrader": {
     "checksum": "18287b36628928896f295d0fffa4b39c",
     "grade": false,
     "grade_id": "import",
     "locked": true,
     "solution": false
    }
   },
   "outputs": [],
   "source": [
    "import re\n",
    "from nose.tools import assert_equal"
   ]
  },
  {
   "cell_type": "markdown",
   "metadata": {
    "deletable": false,
    "nbgrader": {
     "checksum": "aa1fca3a5a03cc47e5d2b9e2c5010ec6",
     "grade": false,
     "grade_id": "instructions_0",
     "locked": true,
     "solution": false
    }
   },
   "source": [
    "In this problem, we will use regular expressions (regex) to process real Twitter data. Specifically, using a sample of real tweets that contain the hashtag `#informatics`, we will use regex to clean up the text data since many of them contain non-alphabetical characters as well as special characters, such as hashtags, @ signs, and HTTP links.\n",
    "\n",
    "For simplicity, we will use only five tweets in this problem, but it's straightforward to scale to a data set with a large number of tweets after we write and test our functions."
   ]
  },
  {
   "cell_type": "code",
   "execution_count": null,
   "metadata": {
    "collapsed": false,
    "deletable": false,
    "nbgrader": {
     "checksum": "031c84754d70a6a17b3d871aa2706923",
     "grade": false,
     "grade_id": "data",
     "locked": true,
     "solution": false
    }
   },
   "outputs": [],
   "source": [
    "tweets = '''\n",
    "New #job opening at The Ottawa Hospital in #Ottawa - #Clinical #Informatics Specialist #jobs http://t.co/3SlUy11dro\n",
    "Looking for a #Clinical #Informatics Pharmacist Park Plaza Hospital #jobs http://t.co/4Qw8i6YaJI\n",
    "Info Session 10/7: MSc in Biomedical Informatics, University of Chicago https://t.co/65G8dJmhdR #HIT #UChicago #informatics #healthcare\n",
    "Here's THE best #Books I've read on #EHR #HIE #HIPAA and #Health #Informatics http://t.co/meFE0dMSPe\n",
    "@RMayNurseDir @FNightingaleF Scholars talking passionately about what they believe in. #informatics &amp; #skincare  https://t.co/m8qiUSxk0h\n",
    "'''.strip().split('\\n')\n",
    "\n",
    "print(tweets)"
   ]
  },
  {
   "cell_type": "markdown",
   "metadata": {
    "nbgrader": {
     "grade": false,
     "locked": false,
     "solution": false
    }
   },
   "source": [
    "If you are curious where this data came from, these are real tweets containing `#informatics`, which were fetched on Friday, September 25th, 2015, around 7:30 PM CDT. Later in this course, we will learn how to use the [Twitter API](https://dev.twitter.com/overview/documentation) to monitor or process tweets in real-time. If you can't wait, see [Mining the Social Web 2nd Edition](https://github.com/ptwobrussell/Mining-the-Social-Web-2nd-Edition) by Matthew A. Russell.\n",
    "\n",
    "\n",
    "## 1. Split the text into words.\n",
    "\n",
    "Words in each tweet are separated by one or more whitespaces. Use regex to create a list of all words in `tweets`. Note that `tweets` is a list of five strings."
   ]
  },
  {
   "cell_type": "code",
   "execution_count": null,
   "metadata": {
    "collapsed": true,
    "deletable": false,
    "nbgrader": {
     "checksum": "eef9ebf28f08de5a8807771325572691",
     "grade": false,
     "grade_id": "split_into_words_answer",
     "locked": false,
     "solution": true
    }
   },
   "outputs": [],
   "source": [
    "def split_into_words(tweets):\n",
    "    '''\n",
    "    Take a list of tweets, and returns a list of words in all tweets.\n",
    "    Since words are separated by one or more whitespaces,\n",
    "    the return value is a list of strings with no whitespace.\n",
    "    \n",
    "    Parameters\n",
    "    ----------\n",
    "    tweets: a list of strings. Strings have whitespaces.\n",
    "    \n",
    "    Returns\n",
    "    -------\n",
    "    A list of strings. Strings have no whitespace.\n",
    "    Results from splitting each tweet in tweets by whitespace.\n",
    "    '''\n",
    "    # YOUR CODE HERE"
   ]
  },
  {
   "cell_type": "markdown",
   "metadata": {
    "nbgrader": {
     "grade": false,
     "locked": false,
     "solution": false
    }
   },
   "source": [
    "First, use your function and visually inspect if it looks correct."
   ]
  },
  {
   "cell_type": "code",
   "execution_count": null,
   "metadata": {
    "collapsed": false,
    "deletable": false,
    "nbgrader": {
     "checksum": "1baf776a850afa6e514ad3c56c3a27ae",
     "grade": false,
     "grade_id": "words",
     "locked": true,
     "points": 5,
     "solution": false
    }
   },
   "outputs": [],
   "source": [
    "words = split_into_words(tweets)\n",
    "print(words)"
   ]
  },
  {
   "cell_type": "markdown",
   "metadata": {
    "nbgrader": {
     "grade": false,
     "locked": false,
     "solution": false
    }
   },
   "source": [
    "Check if your code passes the following test."
   ]
  },
  {
   "cell_type": "code",
   "execution_count": null,
   "metadata": {
    "collapsed": false,
    "deletable": false,
    "nbgrader": {
     "checksum": "579a1ac8cdc8ff17d02758e410a268be",
     "grade": true,
     "grade_id": "split_into_words_test",
     "locked": true,
     "points": 5,
     "solution": false
    }
   },
   "outputs": [],
   "source": [
    "words_answer = [\n",
    "    'New', '#job', 'opening', 'at', 'The', 'Ottawa', 'Hospital', 'in', '#Ottawa', '-',\n",
    "    '#Clinical', '#Informatics', 'Specialist', '#jobs', 'http://t.co/3SlUy11dro',\n",
    "    \n",
    "    'Looking', 'for', 'a', '#Clinical', '#Informatics', 'Pharmacist', 'Park', 'Plaza', 'Hospital',\n",
    "    '#jobs', 'http://t.co/4Qw8i6YaJI',\n",
    "    \n",
    "    'Info', 'Session', '10/7:', 'MSc', 'in', 'Biomedical', 'Informatics,', 'University', 'of', 'Chicago',\n",
    "    'https://t.co/65G8dJmhdR', '#HIT', '#UChicago', '#informatics', '#healthcare',\n",
    "    \n",
    "    \"Here's\", 'THE', 'best', '#Books', \"I've\", 'read', 'on', '#EHR', '#HIE', '#HIPAA',\n",
    "    'and', '#Health', '#Informatics', 'http://t.co/meFE0dMSPe',\n",
    "    \n",
    "    '@RMayNurseDir', '@FNightingaleF', 'Scholars', 'talking', 'passionately', 'about', 'what', 'they', 'believe', 'in.',\n",
    "    '#informatics', '&amp;', '#skincare', 'https://t.co/m8qiUSxk0h'\n",
    "]\n",
    "\n",
    "assert_equal(words, words_answer)"
   ]
  },
  {
   "cell_type": "markdown",
   "metadata": {
    "nbgrader": {
     "grade": false,
     "locked": false,
     "solution": false
    }
   },
   "source": [
    "## 2. Remove all words that contain hashtags (#).\n",
    "\n",
    "The easiest way to do this (that I can think of) is to use `re.sub()` to substitude any elements with a hash character with an empty string `''`. And at the end, we can use a `for` loop or [list comprehension](https://docs.python.org/3.4/tutorial/datastructures.html#list-comprehensions) to remove all empty strings from the list.\n",
    "\n",
    "I'll even write the first part for you. You can replace every word that contains a # with an empty string with \n",
    "\n",
    "```python\n",
    "words = [re.sub('\\#.*', '', word) for word in words]\n",
    "```\n",
    "\n",
    "where I iterated through `words` using list comprehension. This is equivalent to\n",
    "\n",
    "```python\n",
    "a_list = []\n",
    "for word in words:\n",
    "    a_list += [re.sub('\\#.*', '', word)]\n",
    "words = a_list\n",
    "```\n",
    "\n",
    "We have to include a `\\` before the `#` because `#` is a special character.  The `.` matches any character (except newline), and `*` means zero or more repetitions. Thus, this line substitues every word in `words` that starts with a `#` with an empty string `''`.\n",
    "\n",
    "Now, if we remove all empty strings from this list, we have removed all words that are hashtags."
   ]
  },
  {
   "cell_type": "code",
   "execution_count": null,
   "metadata": {
    "collapsed": true,
    "deletable": false,
    "nbgrader": {
     "checksum": "45f76cd4e5e23db5ccd667585155b6da",
     "grade": false,
     "grade_id": "remove_hashtags_answer",
     "locked": false,
     "solution": true
    }
   },
   "outputs": [],
   "source": [
    "def remove_hashtags(words):\n",
    "    '''\n",
    "    Take a list of strings.\n",
    "    Returns a list of strings, where we discard all strings that are hashtags.\n",
    "    \n",
    "    Parameters\n",
    "    ----------\n",
    "    words: A list of strings.\n",
    "    \n",
    "    Returns\n",
    "    -------\n",
    "    A list of strings. None of the strings in the return list has a hashtag.\n",
    "    '''\n",
    "    # YOUR CODE HERE"
   ]
  },
  {
   "cell_type": "code",
   "execution_count": null,
   "metadata": {
    "collapsed": false,
    "deletable": false,
    "nbgrader": {
     "checksum": "243618c35738e79a2937549c407a1938",
     "grade": false,
     "grade_id": "no_hash_tags",
     "locked": true,
     "solution": false
    }
   },
   "outputs": [],
   "source": [
    "no_hashtags = remove_hashtags(words)\n",
    "print(no_hashtags)"
   ]
  },
  {
   "cell_type": "code",
   "execution_count": null,
   "metadata": {
    "collapsed": false,
    "deletable": false,
    "nbgrader": {
     "checksum": "955011cb949ddffb80af1eef94be6af4",
     "grade": true,
     "grade_id": "remove_hashtags_test",
     "locked": true,
     "points": 5,
     "solution": false
    }
   },
   "outputs": [],
   "source": [
    "no_hashtags_answer = [\n",
    "    'New', 'opening', 'at', 'The', 'Ottawa', 'Hospital', 'in', '-',\n",
    "    'Specialist', 'http://t.co/3SlUy11dro',\n",
    "    \n",
    "    'Looking', 'for', 'a', 'Pharmacist', 'Park', 'Plaza', 'Hospital',\n",
    "    'http://t.co/4Qw8i6YaJI',\n",
    "    \n",
    "    'Info', 'Session', '10/7:', 'MSc', 'in', 'Biomedical', 'Informatics,', 'University', 'of', 'Chicago',\n",
    "    'https://t.co/65G8dJmhdR',\n",
    "    \n",
    "    \"Here's\", 'THE', 'best', \"I've\", 'read', 'on',\n",
    "    'and', 'http://t.co/meFE0dMSPe',\n",
    "    \n",
    "    '@RMayNurseDir', '@FNightingaleF', 'Scholars', 'talking', 'passionately', 'about', 'what', 'they', 'believe', 'in.',\n",
    "    '&amp;', 'https://t.co/m8qiUSxk0h'\n",
    "]\n",
    "\n",
    "assert_equal(no_hashtags, no_hashtags_answer)"
   ]
  },
  {
   "cell_type": "markdown",
   "metadata": {
    "nbgrader": {
     "grade": false,
     "locked": false,
     "solution": false
    }
   },
   "source": [
    "## 3. Remove all words that contain users (@).\n",
    "\n",
    "Similary, remove all words that indicate users (begins with the @ character)."
   ]
  },
  {
   "cell_type": "code",
   "execution_count": null,
   "metadata": {
    "collapsed": true,
    "deletable": false,
    "nbgrader": {
     "checksum": "9ab2d54d3b7fd323523a473b6828cc4c",
     "grade": false,
     "grade_id": "remove_users_answer",
     "locked": false,
     "solution": true
    }
   },
   "outputs": [],
   "source": [
    "def remove_users(words):\n",
    "    '''\n",
    "    Take a list of strings.\n",
    "    Returns a list of strings, where we discard all strings that represent users.\n",
    "    \n",
    "    Parameters\n",
    "    ----------\n",
    "    words: A list of strings.\n",
    "    \n",
    "    Returns\n",
    "    -------\n",
    "    A list of strings. None of the strings in the return list has user tags.\n",
    "    '''\n",
    "    # YOUR CODE HERE"
   ]
  },
  {
   "cell_type": "code",
   "execution_count": null,
   "metadata": {
    "collapsed": false,
    "deletable": false,
    "nbgrader": {
     "checksum": "b06ed50f26958f96c8374c614ba91ca8",
     "grade": false,
     "grade_id": "no_users",
     "locked": true,
     "solution": false
    }
   },
   "outputs": [],
   "source": [
    "no_users = remove_users(no_hashtags)\n",
    "print(no_users)"
   ]
  },
  {
   "cell_type": "code",
   "execution_count": null,
   "metadata": {
    "collapsed": false,
    "deletable": false,
    "nbgrader": {
     "checksum": "a6a4dc60495ab2bc8a0ad6d74e0800c1",
     "grade": true,
     "grade_id": "remove_users_test",
     "locked": true,
     "points": 5,
     "solution": false
    }
   },
   "outputs": [],
   "source": [
    "no_users_answer = [\n",
    "    'New', 'opening', 'at', 'The', 'Ottawa', 'Hospital', 'in', '-',\n",
    "    'Specialist', 'http://t.co/3SlUy11dro',\n",
    "    \n",
    "    'Looking', 'for', 'a', 'Pharmacist', 'Park', 'Plaza', 'Hospital',\n",
    "    'http://t.co/4Qw8i6YaJI',\n",
    "    \n",
    "    'Info', 'Session', '10/7:', 'MSc', 'in', 'Biomedical', 'Informatics,', 'University', 'of', 'Chicago',\n",
    "    'https://t.co/65G8dJmhdR',\n",
    "    \n",
    "    \"Here's\", 'THE', 'best', \"I've\", 'read', 'on',\n",
    "    'and', 'http://t.co/meFE0dMSPe',\n",
    "    \n",
    "    'Scholars', 'talking', 'passionately', 'about', 'what', 'they', 'believe', 'in.',\n",
    "    '&amp;', 'https://t.co/m8qiUSxk0h'\n",
    "]\n",
    "\n",
    "assert_equal(no_users, no_users_answer)"
   ]
  },
  {
   "cell_type": "markdown",
   "metadata": {},
   "source": [
    "## 4. Remove all words that contain HTTP links.\n",
    "\n",
    "We also want to remove all hyperlinks. "
   ]
  },
  {
   "cell_type": "code",
   "execution_count": null,
   "metadata": {
    "collapsed": true,
    "deletable": false,
    "nbgrader": {
     "checksum": "f459e3b18d0d4e69484817730e22cdf5",
     "grade": false,
     "grade_id": "remove_links_answer",
     "locked": false,
     "solution": true
    }
   },
   "outputs": [],
   "source": [
    "def remove_links(words):\n",
    "    '''\n",
    "    Take a list of strings.\n",
    "    Returns a list of strings, where we discard all strings that are http links.\n",
    "    \n",
    "    Parameters\n",
    "    ----------\n",
    "    words: A list of strings.\n",
    "    \n",
    "    Returns\n",
    "    -------\n",
    "    A list of strings. None of the strings in the return list is an http link.\n",
    "    '''\n",
    "    # YOUR CODE HERE"
   ]
  },
  {
   "cell_type": "code",
   "execution_count": null,
   "metadata": {
    "collapsed": false,
    "deletable": false,
    "nbgrader": {
     "checksum": "cc00642ce88e23594a452313da370007",
     "grade": false,
     "grade_id": "no_links",
     "locked": true,
     "solution": false
    }
   },
   "outputs": [],
   "source": [
    "no_links = remove_links(no_users)\n",
    "print(no_links)"
   ]
  },
  {
   "cell_type": "code",
   "execution_count": null,
   "metadata": {
    "collapsed": false,
    "deletable": false,
    "nbgrader": {
     "checksum": "43292ef247b4d59f55bd02c27c260fb4",
     "grade": true,
     "grade_id": "remove_links_test",
     "locked": true,
     "points": 5,
     "solution": false
    }
   },
   "outputs": [],
   "source": [
    "no_links_answer = [\n",
    "    'New', 'opening', 'at', 'The', 'Ottawa', 'Hospital', 'in', '-',\n",
    "    'Specialist',\n",
    "    \n",
    "    'Looking', 'for', 'a', 'Pharmacist', 'Park', 'Plaza', 'Hospital',\n",
    "    \n",
    "    'Info', 'Session', '10/7:', 'MSc', 'in', 'Biomedical', 'Informatics,', 'University', 'of', 'Chicago',\n",
    "    \n",
    "    \"Here's\", 'THE', 'best', \"I've\", 'read', 'on',\n",
    "    'and',\n",
    "    \n",
    "    'Scholars', 'talking', 'passionately', 'about', 'what', 'they', 'believe', 'in.',\n",
    "    '&amp;',\n",
    "]\n",
    "\n",
    "assert_equal(no_links, no_links_answer)"
   ]
  },
  {
   "cell_type": "markdown",
   "metadata": {},
   "source": [
    "## 5. Remove all non-alphabetical characters.\n",
    "\n",
    "A tweet may contain foreign characters, punctuation marks, or numbers. In this case, however, we don't want to remove a word just because it contains a punctuation mark. For example, we want to keep \"Informatics\" and \"in\" in `\"Informatics,\"` (a comma at the end) and `\"in.\"` (a period) while getting rid of the punctuation marks.\n",
    "\n",
    "So, simply go through each word and remove every character that is not an alphabetical character."
   ]
  },
  {
   "cell_type": "code",
   "execution_count": null,
   "metadata": {
    "collapsed": true,
    "deletable": false,
    "nbgrader": {
     "checksum": "e81f87cdc4b70dd7fe166ed949cb050a",
     "grade": false,
     "grade_id": "keep_letters_answer",
     "locked": false,
     "solution": true
    }
   },
   "outputs": [],
   "source": [
    "def keep_letters(words):\n",
    "    '''\n",
    "    Take a list of strings.\n",
    "    Returns a list of strings, where all strings have only alphabetical characters.\n",
    "    \n",
    "    Parameters\n",
    "    ----------\n",
    "    words: A list of strings.\n",
    "    \n",
    "    Returns\n",
    "    -------\n",
    "    A list of strings. None of the strings in the return list has any non-alphabetical characters.\n",
    "    '''\n",
    "    # YOUR CODE HERE"
   ]
  },
  {
   "cell_type": "code",
   "execution_count": null,
   "metadata": {
    "collapsed": false,
    "deletable": false,
    "nbgrader": {
     "checksum": "fc0c639ac4e4b86fce3694241dcc1f0c",
     "grade": false,
     "grade_id": "only_letters",
     "locked": true,
     "solution": false
    }
   },
   "outputs": [],
   "source": [
    "only_letters = keep_letters(no_links)\n",
    "print(only_letters)"
   ]
  },
  {
   "cell_type": "code",
   "execution_count": null,
   "metadata": {
    "collapsed": false,
    "deletable": false,
    "nbgrader": {
     "checksum": "cb0ef4d621c1e3335a0e825a2850bdbe",
     "grade": true,
     "grade_id": "keep_letters_test",
     "locked": true,
     "points": 5,
     "solution": false
    }
   },
   "outputs": [],
   "source": [
    "only_letters_answer = [\n",
    "    'New', 'opening', 'at', 'The', 'Ottawa', 'Hospital', 'in',\n",
    "    'Specialist',\n",
    "    \n",
    "    'Looking', 'for', 'a', 'Pharmacist', 'Park', 'Plaza', 'Hospital',\n",
    "    \n",
    "    'Info', 'Session', 'MSc', 'in', 'Biomedical', 'Informatics', 'University', 'of', 'Chicago',\n",
    "    \n",
    "    \"Heres\", 'THE', 'best', \"Ive\", 'read', 'on',\n",
    "    'and',\n",
    "    \n",
    "    'Scholars', 'talking', 'passionately', 'about', 'what', 'they', 'believe', 'in',\n",
    "    'amp'\n",
    "]\n",
    "\n",
    "assert_equal(only_letters, only_letters_answer)"
   ]
  },
  {
   "cell_type": "markdown",
   "metadata": {},
   "source": [
    "## 6. Convert everything to lower cases.\n",
    "\n",
    "Convert all strings to lowercase."
   ]
  },
  {
   "cell_type": "code",
   "execution_count": null,
   "metadata": {
    "collapsed": true,
    "deletable": false,
    "nbgrader": {
     "checksum": "b5310adbdccc6bdf81bbc253af233d00",
     "grade": false,
     "grade_id": "to_lower_answer",
     "locked": false,
     "solution": true
    }
   },
   "outputs": [],
   "source": [
    "def to_lower(words):\n",
    "    '''\n",
    "    Take a list of strings.\n",
    "    Returns a list of strings, where all strings are lowercase.\n",
    "    \n",
    "    Parameters\n",
    "    ----------\n",
    "    words: A list of strings.\n",
    "    \n",
    "    Returns\n",
    "    -------\n",
    "    A list of strings. None of the strings in the return list has any capital letters.\n",
    "    '''\n",
    "    # YOUR CODE HERE"
   ]
  },
  {
   "cell_type": "code",
   "execution_count": null,
   "metadata": {
    "collapsed": false,
    "deletable": false,
    "nbgrader": {
     "checksum": "7e881126da62b1b3bf13105a643ff4e6",
     "grade": false,
     "grade_id": "all_lower",
     "locked": true,
     "solution": false
    }
   },
   "outputs": [],
   "source": [
    "all_lower = to_lower(only_letters)\n",
    "print(all_lower)"
   ]
  },
  {
   "cell_type": "code",
   "execution_count": null,
   "metadata": {
    "collapsed": false,
    "deletable": false,
    "nbgrader": {
     "checksum": "900daf122217e98727085250a50a9e7c",
     "grade": true,
     "grade_id": "to_lower_test",
     "locked": true,
     "points": 5,
     "solution": false
    }
   },
   "outputs": [],
   "source": [
    "all_lower_answer = [\n",
    "    'new', 'opening', 'at', 'the', 'ottawa', 'hospital', 'in',\n",
    "    'specialist',\n",
    "    \n",
    "    'looking', 'for', 'a', 'pharmacist', 'park', 'plaza', 'hospital',\n",
    "    \n",
    "    'info', 'session', 'msc', 'in', 'biomedical', 'informatics', 'university', 'of', 'chicago',\n",
    "    \n",
    "    \"heres\", 'the', 'best', \"ive\", 'read', 'on',\n",
    "    'and',\n",
    "    \n",
    "    'scholars', 'talking', 'passionately', 'about', 'what', 'they', 'believe', 'in',\n",
    "    'amp'\n",
    "]\n",
    "\n",
    "assert_equal(all_lower, all_lower_answer)"
   ]
  },
  {
   "cell_type": "markdown",
   "metadata": {},
   "source": [
    "Note that words that had #'s, @'s, numbers, links, etc. in them are all gone now, and we have a list of nicely looking words. If you are confused about how to do some of the operations, you can simply google, e.g., \"python convert string to lowercase\" or ask us questions."
   ]
  }
 ],
 "metadata": {
  "kernelspec": {
   "display_name": "Python 3",
   "language": "python",
   "name": "python3"
  },
  "language_info": {
   "codemirror_mode": {
    "name": "ipython",
    "version": 3
   },
   "file_extension": ".py",
   "mimetype": "text/x-python",
   "name": "python",
   "nbconvert_exporter": "python",
   "pygments_lexer": "ipython3",
   "version": "3.4.0"
  }
 },
 "nbformat": 4,
 "nbformat_minor": 0
}
